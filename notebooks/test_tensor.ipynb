{
 "cells": [
  {
   "cell_type": "code",
   "execution_count": 63,
   "metadata": {
    "scrolled": true
   },
   "outputs": [],
   "source": [
    "import sys\n",
    "import os\n",
    "import glob\n",
    "import tensorflow as tf\n",
    "import numpy as np\n",
    "sys.path.append(\"/\".join(os.getcwd().split(\"/\")[:-1]))\n",
    "#tf.InteractiveSession()\n",
    "tf.enable_eager_execution()"
   ]
  },
  {
   "cell_type": "code",
   "execution_count": 64,
   "metadata": {
    "scrolled": true
   },
   "outputs": [],
   "source": [
    "from src.utils.audio import load_processed_audio"
   ]
  },
  {
   "cell_type": "code",
   "execution_count": 65,
   "metadata": {},
   "outputs": [
    {
     "name": "stderr",
     "output_type": "stream",
     "text": [
      "WARNING: Logging before flag parsing goes to stderr.\n",
      "W0829 15:46:44.431561 140734837728704 deprecation_wrapper.py:119] From /Users/az01640/Projets/multrigger-word/src/utils/audio.py:40: The name tf.read_file is deprecated. Please use tf.io.read_file instead.\n",
      "\n",
      "W0829 15:46:45.682397 140734837728704 lazy_loader.py:50] \n",
      "The TensorFlow contrib module will not be included in TensorFlow 2.0.\n",
      "For more information, please see:\n",
      "  * https://github.com/tensorflow/community/blob/master/rfcs/20180907-contrib-sunset.md\n",
      "  * https://github.com/tensorflow/addons\n",
      "  * https://github.com/tensorflow/io (for I/O related ops)\n",
      "If you depend on functionality not listed there, please file an issue.\n",
      "\n",
      "W0829 15:46:45.696272 140734837728704 deprecation.py:323] From /Users/az01640/Projets/multrigger-word/src/utils/audio.py:42: decode_audio (from tensorflow.contrib.ffmpeg.ffmpeg_ops) is deprecated and will be removed after 2018-09-04.\n",
      "Instructions for updating:\n",
      "tf.contrib.ffmpeg will be removed in 2.0, the support for video and audio will continue to be provided in tensorflow-io: https://github.com/tensorflow/io\n"
     ]
    }
   ],
   "source": [
    "positives, negatives, backgrounds = load_processed_audio()"
   ]
  },
  {
   "cell_type": "code",
   "execution_count": 66,
   "metadata": {},
   "outputs": [],
   "source": [
    "from src.train import *\n",
    "from src.make_dataset import *"
   ]
  },
  {
   "cell_type": "code",
   "execution_count": 67,
   "metadata": {},
   "outputs": [
    {
     "name": "stderr",
     "output_type": "stream",
     "text": [
      "W0829 15:47:34.600429 140734837728704 deprecation.py:323] From /Users/az01640/Projets/multrigger-word/.venv/lib/python3.6/site-packages/tensorflow/python/data/ops/dataset_ops.py:494: py_func (from tensorflow.python.ops.script_ops) is deprecated and will be removed in a future version.\n",
      "Instructions for updating:\n",
      "tf.py_func is deprecated in TF V2. Instead, there are two\n",
      "    options available in V2.\n",
      "    - tf.py_function takes a python function which manipulates tf eager\n",
      "    tensors instead of numpy arrays. It's easy to convert a tf eager tensor to\n",
      "    an ndarray (just call tensor.numpy()) but having access to eager tensors\n",
      "    means `tf.py_function`s can use accelerators such as GPUs as well as\n",
      "    being differentiable using a gradient tape.\n",
      "    - tf.numpy_function maintains the semantics of the deprecated tf.py_func\n",
      "    (it is not differentiable, and manipulates numpy arrays). It drops the\n",
      "    stateful argument making all functions stateful.\n",
      "    \n"
     ]
    }
   ],
   "source": [
    "ds = tf.data.Dataset.from_generator(background_generator(backgrounds, 10*16000, 32), output_types=tf.float32)"
   ]
  },
  {
   "cell_type": "code",
   "execution_count": 68,
   "metadata": {},
   "outputs": [
    {
     "name": "stdout",
     "output_type": "stream",
     "text": [
      "189 ms ± 8.86 ms per loop (mean ± std. dev. of 7 runs, 1 loop each)\n"
     ]
    }
   ],
   "source": [
    "%%timeit\n",
    "ds = tf.data.Dataset.from_generator(background_generator(backgrounds, 10*16000, 32), output_types=tf.float32)\n",
    "ds = ds.map(add_word(positives, negatives, .2))\n",
    "for x in ds:\n",
    "    pass\n",
    "x"
   ]
  },
  {
   "cell_type": "code",
   "execution_count": 18,
   "metadata": {},
   "outputs": [
    {
     "name": "stderr",
     "output_type": "stream",
     "text": [
      "W0827 11:47:20.064616 140734956590528 deprecation_wrapper.py:119] From /Users/az01640/Projets/multrigger-word/src/make_dataset.py:72: The name tf.log is deprecated. Please use tf.math.log instead.\n",
      "\n"
     ]
    },
    {
     "name": "stdout",
     "output_type": "stream",
     "text": [
      "581 ms ± 18 ms per loop (mean ± std. dev. of 7 runs, 1 loop each)\n"
     ]
    }
   ],
   "source": [
    "%%timeit\n",
    "ds = tf.data.Dataset.from_generator(background_generator(backgrounds, 10*16000, 32), output_types=tf.float32)\n",
    "ds = ds.map(add_word(positives, negatives, .2))\n",
    "ds = ds.map(spectrogram_from_samples_batch)\n",
    "for x in ds:\n",
    "    pass\n",
    "x"
   ]
  },
  {
   "cell_type": "code",
   "execution_count": null,
   "metadata": {},
   "outputs": [],
   "source": [
    "sns.heatmap(np.swapaxes(x[0].numpy()[0], 0, 1))"
   ]
  },
  {
   "cell_type": "code",
   "execution_count": 16,
   "metadata": {},
   "outputs": [],
   "source": [
    "import os\n",
    "import time\n",
    "import numpy as np\n",
    "\n",
    "import tensorflow as tf\n",
    "tf.enable_eager_execution()"
   ]
  },
  {
   "cell_type": "code",
   "execution_count": 5,
   "metadata": {},
   "outputs": [],
   "source": [
    "import random"
   ]
  },
  {
   "cell_type": "code",
   "execution_count": 70,
   "metadata": {},
   "outputs": [
    {
     "name": "stdout",
     "output_type": "stream",
     "text": [
      "tf.Tensor(\n",
      "[[1. 0. 2. 0. 0. 0. 0. 0. 0. 0.]\n",
      " [0. 1. 4. 0. 0. 0. 0. 0. 0. 0.]\n",
      " [0. 0. 8. 0. 0. 0. 0. 0. 0. 0.]\n",
      " [0. 0. 2. 1. 0. 0. 0. 0. 0. 0.]\n",
      " [0. 0. 3. 0. 1. 0. 0. 0. 0. 0.]], shape=(5, 10), dtype=float64)\n",
      "tf.Tensor(\n",
      "[[0. 0. 9. 0. 0. 1. 0. 0. 0. 0.]\n",
      " [0. 0. 5. 0. 0. 0. 1. 0. 0. 0.]\n",
      " [0. 0. 3. 0. 0. 0. 0. 1. 0. 0.]\n",
      " [0. 0. 9. 0. 0. 0. 0. 0. 1. 0.]\n",
      " [0. 0. 9. 0. 0. 0. 0. 0. 0. 1.]], shape=(5, 10), dtype=float64)\n"
     ]
    }
   ],
   "source": [
    "backgrounds = np.eye(10)\n",
    "WORDS = list(range(2, 10))\n",
    "\n",
    "def insert_random(background):\n",
    "\n",
    "    backs = []\n",
    "\n",
    "    for back in background:\n",
    "        word = random.choice(WORDS)\n",
    "        backs.append(tf.concat([back[:2], [word], back[3:]], axis=0))\n",
    "\n",
    "    return tf.stack(backs)\n",
    "\n",
    "ds = tf.data.Dataset.from_tensor_slices(backgrounds).batch(5).map(lambda x: tf.py_function(insert_random, [x], 'float64'))\n",
    "\n",
    "for record in ds:\n",
    "    print(record)"
   ]
  },
  {
   "cell_type": "code",
   "execution_count": null,
   "metadata": {},
   "outputs": [],
   "source": []
  }
 ],
 "metadata": {
  "kernelspec": {
   "display_name": "Python 3",
   "language": "python",
   "name": "python3"
  },
  "language_info": {
   "codemirror_mode": {
    "name": "ipython",
    "version": 3
   },
   "file_extension": ".py",
   "mimetype": "text/x-python",
   "name": "python",
   "nbconvert_exporter": "python",
   "pygments_lexer": "ipython3",
   "version": "3.6.2"
  }
 },
 "nbformat": 4,
 "nbformat_minor": 2
}
