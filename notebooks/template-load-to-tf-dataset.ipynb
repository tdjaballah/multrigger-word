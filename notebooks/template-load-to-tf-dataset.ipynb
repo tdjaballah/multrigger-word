{
 "cells": [
  {
   "cell_type": "markdown",
   "metadata": {},
   "source": [
    "# Read Data\n",
    "---"
   ]
  },
  {
   "cell_type": "markdown",
   "metadata": {},
   "source": [
    "# Imports"
   ]
  },
  {
   "cell_type": "code",
   "execution_count": 2,
   "metadata": {
    "_cell_guid": "b1076dfc-b9ad-4769-8c92-a6c4dae69d19",
    "_uuid": "8f2839f25d086af736a60e9eeb907d3b93b6e0e5"
   },
   "outputs": [],
   "source": [
    "import os\n",
    "import tensorflow as tf"
   ]
  },
  {
   "cell_type": "code",
   "execution_count": 3,
   "metadata": {},
   "outputs": [],
   "source": [
    "data_dir = os.environ[\"YT8M_DATA\"]"
   ]
  },
  {
   "cell_type": "markdown",
   "metadata": {},
   "source": [
    "# Frame-level"
   ]
  },
  {
   "cell_type": "code",
   "execution_count": 4,
   "metadata": {},
   "outputs": [],
   "source": [
    "def parse_sequence_example(s):\n",
    "    return tf.train.SequenceExample.FromString(s.numpy())\n",
    "\n",
    "def extract_id(s):\n",
    "    se = parse_sequence_example(s)\n",
    "    return se.context.feature[\"id\"].bytes_list.value[0]\n",
    "\n",
    "def extract_labels(s):\n",
    "    se = parse_sequence_example(s)\n",
    "    return se.context.feature[\"labels\"].int64_list.value\n",
    "\n",
    "def extract_frames_features(s, feature):\n",
    "    se = parse_sequence_example(s)\n",
    "    frames = se.feature_lists.feature_list[feature].feature    \n",
    "\n",
    "    return tf.expand_dims(\n",
    "        tf.concat([\n",
    "            tf.expand_dims(\n",
    "                tf.cast(\n",
    "                    tf.io.decode_raw(frame.bytes_list.value[0], tf.uint8),\n",
    "                    tf.float64\n",
    "                ),\n",
    "                axis=0\n",
    "            ) for frame in frames\n",
    "        ]\n",
    "        , axis=0)\n",
    "    , axis=0 )\n",
    "\n",
    "\n",
    "def parse(s):\n",
    "    \n",
    "    vid = tf.py_function(\n",
    "        extract_id,\n",
    "        (s,),\n",
    "        tf.string\n",
    "    )\n",
    "    \n",
    "    labels = tf.py_function(\n",
    "        extract_labels,\n",
    "        (s,),\n",
    "        tf.int64\n",
    "    )\n",
    "    \n",
    "    rgb = tf.py_function(\n",
    "        lambda x: extract_frames_features(x, \"rgb\"),\n",
    "        (s,),\n",
    "        tf.float64\n",
    "    )\n",
    "    \n",
    "    audio = tf.py_function(\n",
    "        lambda x: extract_frames_features(x, \"audio\"),\n",
    "        (s,),\n",
    "        tf.float64\n",
    "    )\n",
    "      \n",
    "    return vid, labels, rgb, audio"
   ]
  },
  {
   "cell_type": "code",
   "execution_count": 5,
   "metadata": {},
   "outputs": [],
   "source": [
    "tf_records = os.path.join(data_dir, \"frame/train00.tfrecord\")"
   ]
  },
  {
   "cell_type": "code",
   "execution_count": 6,
   "metadata": {},
   "outputs": [],
   "source": [
    "dataset = tf.data.TFRecordDataset(tf_records).map(parse)"
   ]
  },
  {
   "cell_type": "code",
   "execution_count": 7,
   "metadata": {},
   "outputs": [
    {
     "name": "stderr",
     "output_type": "stream",
     "text": [
      "WARNING: Logging before flag parsing goes to stderr.\n",
      "W0709 16:19:27.922098 140286130886400 backprop.py:842] The dtype of the watched tensor must be floating (e.g. tf.float32), got tf.string\n",
      "W0709 16:19:27.927050 140286130886400 backprop.py:842] The dtype of the watched tensor must be floating (e.g. tf.float32), got tf.string\n",
      "W0709 16:19:27.930767 140286130886400 backprop.py:842] The dtype of the watched tensor must be floating (e.g. tf.float32), got tf.string\n",
      "W0709 16:19:28.046549 140286130886400 backprop.py:842] The dtype of the watched tensor must be floating (e.g. tf.float32), got tf.string\n"
     ]
    }
   ],
   "source": [
    "for r in dataset.take(1):\n",
    "    vid, labels, rgb, audio = r "
   ]
  },
  {
   "cell_type": "code",
   "execution_count": 8,
   "metadata": {},
   "outputs": [
    {
     "data": {
      "text/plain": [
       "<tf.Tensor: id=2390, shape=(), dtype=string, numpy=b'op00'>"
      ]
     },
     "execution_count": 8,
     "metadata": {},
     "output_type": "execute_result"
    }
   ],
   "source": [
    "vid"
   ]
  },
  {
   "cell_type": "code",
   "execution_count": 9,
   "metadata": {},
   "outputs": [
    {
     "data": {
      "text/plain": [
       "<tf.Tensor: id=2391, shape=(4,), dtype=int64, numpy=array([ 82, 103, 346, 350])>"
      ]
     },
     "execution_count": 9,
     "metadata": {},
     "output_type": "execute_result"
    }
   ],
   "source": [
    "labels"
   ]
  },
  {
   "cell_type": "code",
   "execution_count": 10,
   "metadata": {},
   "outputs": [
    {
     "data": {
      "text/plain": [
       "<tf.Tensor: id=2392, shape=(1, 234, 1024), dtype=float64, numpy=\n",
       "array([[[179., 158., 143., ...,  14., 135., 123.],\n",
       "        [201., 141., 141., ...,  49., 134.,  73.],\n",
       "        [138., 169., 115., ...,  35., 215., 103.],\n",
       "        ...,\n",
       "        [133., 174.,  84., ..., 119.,  82.,  91.],\n",
       "        [121., 127., 100., ...,  56., 199., 165.],\n",
       "        [112., 122.,  77., ..., 141., 195., 245.]]])>"
      ]
     },
     "execution_count": 10,
     "metadata": {},
     "output_type": "execute_result"
    }
   ],
   "source": [
    "rgb"
   ]
  },
  {
   "cell_type": "code",
   "execution_count": 11,
   "metadata": {},
   "outputs": [
    {
     "data": {
      "text/plain": [
       "<tf.Tensor: id=2393, shape=(1, 234, 128), dtype=float64, numpy=\n",
       "array([[[119., 123., 161., ..., 204., 190., 130.],\n",
       "        [ 80., 126., 141., ..., 144.,  61.,  43.],\n",
       "        [126., 114., 182., ..., 185.,  11., 184.],\n",
       "        ...,\n",
       "        [121., 202., 249., ...,  74.,  59., 255.],\n",
       "        [ 46., 255., 213., ...,   0., 131., 167.],\n",
       "        [ 49., 230., 129., ..., 150.,   0.,   0.]]])>"
      ]
     },
     "execution_count": 11,
     "metadata": {},
     "output_type": "execute_result"
    }
   ],
   "source": [
    "audio"
   ]
  }
 ],
 "metadata": {
  "kernelspec": {
   "display_name": "Python 3",
   "language": "python",
   "name": "python3"
  },
  "language_info": {
   "codemirror_mode": {
    "name": "ipython",
    "version": 3
   },
   "file_extension": ".py",
   "mimetype": "text/x-python",
   "name": "python",
   "nbconvert_exporter": "python",
   "pygments_lexer": "ipython3",
   "version": "3.7.1"
  }
 },
 "nbformat": 4,
 "nbformat_minor": 2
}
