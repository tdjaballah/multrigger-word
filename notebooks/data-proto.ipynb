{
 "cells": [
  {
   "cell_type": "markdown",
   "metadata": {},
   "source": [
    "<a href=https://research.google.com/youtube8m/download.html>\n",
    "<img src=\"https://1.bp.blogspot.com/-6ep4JQfWHN0/XRUznUhDQNI/AAAAAAAAERs/gy2ztDJto50eJ3XvmIlzD6Uxa4Z0ePd9wCLcBGAs/s1600/image1.png\"/>\n",
    "</a>    "
   ]
  },
  {
   "cell_type": "markdown",
   "metadata": {},
   "source": [
    "---"
   ]
  },
  {
   "cell_type": "markdown",
   "metadata": {},
   "source": [
    "# Frame-level features dataset"
   ]
  },
  {
   "cell_type": "markdown",
   "metadata": {},
   "source": [
    "Frame-level features are stored as [tensorflow.SequenceExample](https://github.com/tensorflow/tensorflow/blob/master/tensorflow/core/example/example.proto) [protocol buffers](https://developers.google.com/protocol-buffers/)."
   ]
  },
  {
   "cell_type": "markdown",
   "metadata": {},
   "source": [
    "## SequenceExample Proto"
   ]
  },
  {
   "cell_type": "markdown",
   "metadata": {},
   "source": [
    "```ruby\n",
    "message SequenceExample {\n",
    "  Features context = 1;\n",
    "  FeatureLists feature_lists = 2;\n",
    "};\n",
    "```"
   ]
  },
  {
   "cell_type": "markdown",
   "metadata": {},
   "source": [
    "### Features Proto"
   ]
  },
  {
   "cell_type": "markdown",
   "metadata": {},
   "source": [
    "```ruby\n",
    "message Features {\n",
    "  map<string, Feature> feature = 1;\n",
    "};\n",
    "\n",
    "message Feature {\n",
    "  oneof kind {\n",
    "    BytesList bytes_list = 1;\n",
    "    FloatList float_list = 2;\n",
    "    Int64List int64_list = 3;\n",
    "  }\n",
    "};\n",
    "\n",
    "message BytesList {\n",
    "  repeated bytes value = 1;\n",
    "}\n",
    "message FloatList {\n",
    "  repeated float value = 1 [packed = true];\n",
    "}\n",
    "message Int64List {\n",
    "  repeated int64 value = 1 [packed = true];\n",
    "}\n",
    "```"
   ]
  },
  {
   "cell_type": "markdown",
   "metadata": {},
   "source": [
    "### FeatureLists Proto"
   ]
  },
  {
   "cell_type": "markdown",
   "metadata": {},
   "source": [
    "```ruby\n",
    "message FeatureLists {\n",
    "  map<string, FeatureList> feature_list = 1;\n",
    "};\n",
    "\n",
    "message FeatureList {\n",
    "  repeated Feature feature = 1;\n",
    "};\n",
    "```"
   ]
  },
  {
   "cell_type": "markdown",
   "metadata": {},
   "source": [
    "## Ex:"
   ]
  },
  {
   "cell_type": "markdown",
   "metadata": {},
   "source": [
    "```ruby\n",
    "context: {\n",
    "  feature: {\n",
    "    key  : \"id\"\n",
    "    value: {\n",
    "      bytes_list: {\n",
    "        value: (Video id)\n",
    "      }\n",
    "    }\n",
    "  }\n",
    "  feature: {\n",
    "    key  : \"labels\"\n",
    "      value: {\n",
    "        int64_list: {\n",
    "          value: [1, 522, 11, 172]  # label list\n",
    "        }\n",
    "      }\n",
    "    }\n",
    "}\n",
    "\n",
    "feature_lists: {\n",
    "  feature_list: {\n",
    "    key  : \"rgb\"\n",
    "    value: {\n",
    "      feature: {\n",
    "        bytes_list: {\n",
    "          value: [1024 8bit quantized features]\n",
    "        }\n",
    "      }\n",
    "      feature: {\n",
    "        bytes_list: {\n",
    "          value: [1024 8bit quantized features]\n",
    "        }\n",
    "      }\n",
    "      ... # Repeated for every second, up to 300\n",
    "  }\n",
    "  feature_list: {\n",
    "    key  : \"audio\"\n",
    "    value: {\n",
    "      feature: {\n",
    "        bytes_list: {\n",
    "          value: [128 8bit quantized features]\n",
    "        }\n",
    "      }\n",
    "      feature: {\n",
    "        bytes_list: {\n",
    "          value: [128 8bit quantized features]\n",
    "        }\n",
    "      }\n",
    "    }\n",
    "    ... # Repeated for every second, up to 300\n",
    "  }\n",
    "}\n",
    "```"
   ]
  },
  {
   "cell_type": "markdown",
   "metadata": {},
   "source": [
    "# Video-level features dataset"
   ]
  },
  {
   "cell_type": "markdown",
   "metadata": {},
   "source": [
    "Video-level features are stored as [tensorflow.Example](https://github.com/tensorflow/tensorflow/blob/master/tensorflow/core/example/example.proto) [protocol buffers](https://developers.google.com/protocol-buffers/)."
   ]
  },
  {
   "cell_type": "markdown",
   "metadata": {},
   "source": [
    "## Example Proto"
   ]
  },
  {
   "cell_type": "markdown",
   "metadata": {},
   "source": [
    "```ruby\n",
    "message Example {\n",
    "  Features features = 1;\n",
    "};\n",
    "```"
   ]
  },
  {
   "cell_type": "markdown",
   "metadata": {},
   "source": [
    "## Ex:\n",
    "\n",
    "```ruby\n",
    "features: {\n",
    "  feature: {\n",
    "    key  : \"id\"\n",
    "    value: {\n",
    "      bytes_list: {\n",
    "        value: (Video id)\n",
    "      }\n",
    "    }\n",
    "  }\n",
    "  feature: {\n",
    "    key  : \"labels\"\n",
    "    value: {\n",
    "      int64_list: {\n",
    "        value: [1, 522, 11, 172]  # label list\n",
    "      }\n",
    "    }\n",
    "  }\n",
    "  feature: {\n",
    "    # Average of all 'rgb' features for the video\n",
    "    key  : \"mean_rgb\"\n",
    "    value: {\n",
    "      float_list: {\n",
    "        value: [1024 float features]\n",
    "      }\n",
    "    }\n",
    "  }\n",
    "  feature: {\n",
    "    # Average of all 'audio' features for the video\n",
    "    key  : \"mean_audio\"\n",
    "    value: {\n",
    "      float_list: {\n",
    "        value: [128 float features]\n",
    "      }\n",
    "    }\n",
    "  }\n",
    "}\n",
    "```"
   ]
  },
  {
   "cell_type": "markdown",
   "metadata": {},
   "source": [
    "# Segment-rated frame-level features dataset (NEW)\n",
    "\n",
    "Only frame-level features are available for the YouTube-8M Segment dataset. Each example contains the labels and features of a video in [tensorflow.SequenceExample](https://github.com/tensorflow/tensorflow/blob/master/tensorflow/core/example/example.proto) format. The labels in the segment dataset has the same label mapping as the YouTube-8M video-level dataset. The features field contains the same format as the previous version of YouTube-8M frame-level features dataset."
   ]
  },
  {
   "cell_type": "markdown",
   "metadata": {},
   "source": [
    "## Ex:\n",
    "\n",
    "```ruby\n",
    "context: {\n",
    "  feature: {\n",
    "    key  : \"id\"\n",
    "    value: {\n",
    "      bytes_list: {\n",
    "        value: (Video id)\n",
    "      }\n",
    "    }\n",
    "  }\n",
    "  feature: {\n",
    "    key  : \"labels\" # video-level labels.\n",
    "      value: {\n",
    "        int64_list: {\n",
    "          value: [ 441, 525 ]\n",
    "        }\n",
    "      }\n",
    "    }\n",
    "    feature: {\n",
    "      key: \"segment_start_times\"\n",
    "      value: {\n",
    "        int64_list: {\n",
    "          value: [ 40, 30, 50, 65, 90 ]\n",
    "        }\n",
    "      }\n",
    "    }\n",
    "    feature: {\n",
    "      key: \"segment_end_times\"\n",
    "      value: {\n",
    "        int64_list: {\n",
    "          value: [ 45, 35, 55, 70, 95 ]\n",
    "        }\n",
    "      }\n",
    "    }\n",
    "    feature: {\n",
    "      key: \"segment_labels\"\n",
    "      value: {\n",
    "        int64_list: {\n",
    "          value: [ 525, 525, 525, 525, 525 ]\n",
    "        }\n",
    "      }\n",
    "    }\n",
    "    feature: {\n",
    "      key: \"segment_scores\"\n",
    "      value: {\n",
    "        float_list: {\n",
    "          value: [ 0.0, 0.0, 0.0, 0.0, 1.0 ]\n",
    "        }\n",
    "      }\n",
    "    }\n",
    "  }\n",
    "}\n",
    "feature_lists: {\n",
    "  # See the frame-level features section.\n",
    "}\n",
    "```"
   ]
  }
 ],
 "metadata": {
  "kernelspec": {
   "display_name": "Python 3",
   "language": "python",
   "name": "python3"
  },
  "language_info": {
   "codemirror_mode": {
    "name": "ipython",
    "version": 3
   },
   "file_extension": ".py",
   "mimetype": "text/x-python",
   "name": "python",
   "nbconvert_exporter": "python",
   "pygments_lexer": "ipython3",
   "version": "3.7.1"
  }
 },
 "nbformat": 4,
 "nbformat_minor": 2
}
